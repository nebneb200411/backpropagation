from network import NetWork
import numpy as np
import matplotlib.pyplot as plt


INITIAL_x = 4
INITIAL_y = 3
LEARNING_RATE = 0.01
TRAINING_NUM = 1000


network = NetWork(training_num=TRAINING_NUM, learning_rate=LEARNING_RATE)


x_record, y_record = network.main(INITIAL_x, INITIAL_y)


print(x_record[-1], y_record[-1])


from mpl_toolkits.mplot3d import Axes3D


fig = plt.figure()
ax = Axes3D(fig)
x = np.arange(-5, 5, 0.1)
y = np.arange(-5, 5, 0.1)
x, y = np.meshgrid(x, y)
z = np.sqrt(np.square(x) + np.square(y))
z_record = np.sqrt(np.square(x_record) + np.square(y_record))
ax.plot(x_record, y_record, z_record, c="red")
ax.plot_wireframe(x, y, z)
ax.view_init(elev=30, azim=150)
plt.show()





fig.show()



